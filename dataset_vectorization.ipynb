{
 "cells": [
  {
   "cell_type": "code",
   "execution_count": null,
   "metadata": {},
   "outputs": [],
   "source": [
    "from datasets import load_dataset\n",
    "import json\n",
    "import re\n",
    "from langchain_community.embeddings import HuggingFaceEmbeddings\n",
    "from langchain.vectorstores import Chroma\n",
    "# APPS\n",
    "ds = load_dataset(\"codeparrot/apps\", split=\"test\")"
   ]
  },
  {
   "cell_type": "code",
   "execution_count": null,
   "metadata": {},
   "outputs": [],
   "source": [
    "def extract_functions(code_snippet):\n",
    "\n",
    "    function_pattern = re.compile(r\"def\\s+\\w+\\(.*?\\):.*?(?=\\n\\s*def|\\Z)\", re.DOTALL)\n",
    "    functions = function_pattern.findall(code_snippet)\n",
    "    return functions\n",
    "\n",
    "def extract_relevant_info(sample):\n",
    "\n",
    "\n",
    "    sample[\"solutions\"] = json.loads(sample[\"solutions\"])\n",
    "    \n",
    "\n",
    "    info = {\n",
    "        \"question\": sample[\"question\"],\n",
    "        \"solutions\": sample[\"solutions\"],\n",
    "        \"input_output\": sample[\"input_output\"],\n",
    "    }\n",
    "    \n",
    "\n",
    "    function_blocks = []\n",
    "\n",
    "    for solution in info[\"solutions\"]:\n",
    "\n",
    "        functions = extract_functions(solution)\n",
    "\n",
    "        for func in functions:\n",
    "\n",
    "            function_blocks.append({\n",
    "                \"question\": info[\"question\"],\n",
    "                \"function_content\": func,\n",
    "                \"input_output\": info[\"input_output\"]\n",
    "            })\n",
    "    \n",
    "\n",
    "    return function_blocks\n",
    "\n",
    "relevant_info = []\n",
    "for sample in ds:\n",
    "    function_blocks = extract_relevant_info(sample)\n",
    "    relevant_info.extend(function_blocks)\n",
    "\n",
    "embedding_path = r\"C:\\Users\\ZOE\\Desktop\\Langchain_framework\\all-MiniLM-L6-v2\"\n",
    "embedding_function = HuggingFaceEmbeddings(model_name=embedding_path)\n",
    "embeddings = [embedding_function.embed_query(json.dumps(info)) for info in relevant_info]\n",
    "\n",
    "vectorstore = Chroma(\n",
    "    persist_directory=\"Chroma_databases/\",\n",
    "    embedding_function=HuggingFaceEmbeddings(model_name=embedding_path)\n",
    ")\n",
    "\n",
    "for info, embedding in zip(relevant_info, embeddings):\n",
    "    vectorstore.add_texts([json.dumps(info)], embeddings=[embedding])\n",
    "\n",
    "print(\"The training set of the APPS dataset has been successfully imported into the Chroma vector database and permanently saved in the Chroma_databases directory\")"
   ]
  }
 ],
 "metadata": {
  "kernelspec": {
   "display_name": "base",
   "language": "python",
   "name": "python3"
  },
  "language_info": {
   "name": "python",
   "version": "3.11.5"
  }
 },
 "nbformat": 4,
 "nbformat_minor": 2
}
